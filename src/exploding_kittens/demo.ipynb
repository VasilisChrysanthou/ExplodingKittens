{
 "cells": [
  {
   "cell_type": "code",
   "execution_count": 36,
   "metadata": {},
   "outputs": [],
   "source": [
    "import exploding_kittens as expl\n",
    "import random"
   ]
  },
  {
   "cell_type": "code",
   "execution_count": 42,
   "metadata": {},
   "outputs": [
    {
     "name": "stdout",
     "output_type": "stream",
     "text": [
      "The autoreload extension is already loaded. To reload it, use:\n",
      "  %reload_ext autoreload\n"
     ]
    }
   ],
   "source": [
    "%load_ext autoreload\n",
    "%autoreload 2"
   ]
  },
  {
   "cell_type": "markdown",
   "metadata": {},
   "source": [
    "# GAME MECHANICS\n",
    "\n",
    "##### 1. START OF TURN:\n",
    "- PLAYER THINKING -> PLAYER ACTION\n",
    "- DISCARD PILE UPDATED\n",
    "- DRAW (END TURN)"
   ]
  },
  {
   "cell_type": "code",
   "execution_count": 43,
   "metadata": {},
   "outputs": [],
   "source": [
    "game = expl.Game(players=[\"Mixas\", \"Vasos\", \"Ponjos\"])"
   ]
  },
  {
   "cell_type": "code",
   "execution_count": 44,
   "metadata": {},
   "outputs": [
    {
     "name": "stdout",
     "output_type": "stream",
     "text": [
      "Player Mixas draws Tacocat\n",
      "Player Vasos draws See The Future\n",
      "Player Ponjos plays Defuse\n",
      "Player Ponjos plays Tacocat\n",
      "Player Ponjos plays Favor\n",
      "Player Ponjos draws Skip\n",
      "Player Mixas draws Skip\n",
      "Player Vasos draws See The Future\n",
      "Player Ponjos draws Rainbow Cat\n",
      "Player Mixas draws Beard Cat\n",
      "Player Vasos draws Hairy Potato Cat\n",
      "Player Ponjos draws Favor\n",
      "Player Mixas draws Tacocat\n",
      "Player Vasos draws Defuse\n",
      "Player Ponjos draws Hairy Potato Cat\n",
      "Player Mixas draws Nope\n",
      "Player Vasos draws Defuse\n",
      "Player Ponjos draws Attack\n",
      "Player Mixas draws Nope\n",
      "Player Vasos draws Catermelon\n",
      "Player Ponjos draws Beard Cat\n",
      "Player Mixas draws See The Future\n",
      "Player Vasos draws Skip\n",
      "Player Ponjos draws Tacocat\n",
      "Player Mixas draws Defuse\n",
      "Player Vasos draws Shuffle\n",
      "Player Ponjos draws See The Future\n",
      "Player Mixas draws Hairy Potato Cat\n",
      "Player Vasos draws Rainbow Cat\n",
      "Player Ponjos draws Skip\n",
      "Player Mixas draws Beard Cat\n",
      "Player Vasos draws Shuffle\n",
      "Player Ponjos draws Exploding Kitten\n",
      "Bye bye player Ponjos\n",
      "Player Mixas draws Attack\n",
      "Player Vasos draws Exploding Kitten\n",
      "Bye bye player Vasos\n",
      "The winner is Mixas! Hooray yay wohoohoho!!!\n"
     ]
    }
   ],
   "source": [
    "game.play_game()"
   ]
  },
  {
   "cell_type": "code",
   "execution_count": 45,
   "metadata": {},
   "outputs": [
    {
     "data": {
      "text/plain": [
       "[Mixas, Vasos, Ponjos]"
      ]
     },
     "execution_count": 45,
     "metadata": {},
     "output_type": "execute_result"
    }
   ],
   "source": [
    "game.players"
   ]
  },
  {
   "cell_type": "code",
   "execution_count": 46,
   "metadata": {},
   "outputs": [
    {
     "data": {
      "text/plain": [
       "Mixas"
      ]
     },
     "execution_count": 46,
     "metadata": {},
     "output_type": "execute_result"
    }
   ],
   "source": [
    "game.winner"
   ]
  },
  {
   "cell_type": "code",
   "execution_count": 47,
   "metadata": {},
   "outputs": [
    {
     "data": {
      "text/plain": [
       "[Defuse, Tacocat, Favor, Exploding Kitten, Exploding Kitten]"
      ]
     },
     "execution_count": 47,
     "metadata": {},
     "output_type": "execute_result"
    }
   ],
   "source": [
    "game.discard_pile"
   ]
  },
  {
   "cell_type": "code",
   "execution_count": 49,
   "metadata": {},
   "outputs": [
    {
     "data": {
      "text/plain": [
       "[Defuse,\n",
       " Catermelon,\n",
       " Hairy Potato Cat,\n",
       " Rainbow Cat,\n",
       " Attack,\n",
       " Nope,\n",
       " Tacocat,\n",
       " Skip,\n",
       " Beard Cat,\n",
       " Tacocat,\n",
       " Nope,\n",
       " Nope,\n",
       " See The Future,\n",
       " Defuse,\n",
       " Hairy Potato Cat,\n",
       " Beard Cat,\n",
       " Attack]"
      ]
     },
     "execution_count": 49,
     "metadata": {},
     "output_type": "execute_result"
    }
   ],
   "source": [
    "game.players[0].hand"
   ]
  },
  {
   "cell_type": "code",
   "execution_count": 50,
   "metadata": {},
   "outputs": [
    {
     "data": {
      "text/plain": [
       "[Beard Cat, Rainbow Cat, Nope, Nope]"
      ]
     },
     "execution_count": 50,
     "metadata": {},
     "output_type": "execute_result"
    }
   ],
   "source": [
    "game.deck.cards"
   ]
  },
  {
   "cell_type": "code",
   "execution_count": null,
   "metadata": {},
   "outputs": [],
   "source": []
  }
 ],
 "metadata": {
  "kernelspec": {
   "display_name": "Python 3.8.13 ('ExplodingKittEnv')",
   "language": "python",
   "name": "python3"
  },
  "language_info": {
   "codemirror_mode": {
    "name": "ipython",
    "version": 3
   },
   "file_extension": ".py",
   "mimetype": "text/x-python",
   "name": "python",
   "nbconvert_exporter": "python",
   "pygments_lexer": "ipython3",
   "version": "3.8.16"
  },
  "orig_nbformat": 4,
  "vscode": {
   "interpreter": {
    "hash": "c8a7669fdb7ab73f48b97b72af7e462a30d1fd6eb52876709e456956f9ca8a27"
   }
  }
 },
 "nbformat": 4,
 "nbformat_minor": 2
}
