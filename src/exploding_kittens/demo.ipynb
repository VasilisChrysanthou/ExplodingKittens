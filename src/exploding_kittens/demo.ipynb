{
 "cells": [
  {
   "cell_type": "code",
   "execution_count": 1,
   "metadata": {},
   "outputs": [],
   "source": [
    "import exploding_kittens as expl\n",
    "import random"
   ]
  },
  {
   "cell_type": "markdown",
   "metadata": {},
   "source": [
    "# GAME MECHANICS\n",
    "\n",
    "##### 1. START OF TURN:\n",
    "- PLAYER THINKING -> PLAYER ACTION\n",
    "- DISCARD PILE UPDATED\n",
    "- DRAW (END TURN)"
   ]
  },
  {
   "cell_type": "code",
   "execution_count": 2,
   "metadata": {},
   "outputs": [],
   "source": [
    "class Game:\n",
    "    \"\"\"\n",
    "    Class for the main functionality of the game. Upon initialisation,\n",
    "    the deck is created and each player is dealt a hand of 5 cards\n",
    "    plus one Defuse card. Then the remaining Defuse cards and the\n",
    "    Exploding Kittens are shuffled into the deck.\n",
    "    \"\"\"\n",
    "\n",
    "    def __init__(self, players=(\"Player 1\", \"Player 2\")):\n",
    "        self.deck = expl.Deck(num_of_players=len(players))\n",
    "        self.discard_pile = []\n",
    "        self.dead_players = []\n",
    "        self.players = []\n",
    "        for pl in players:\n",
    "            self.players.append(expl.Player(pl))\n",
    "            self.players[-1].deal_hand(\n",
    "                [self.deck.cards.pop(0) for _ in range(5)] + [expl.Defuse()]\n",
    "            )\n",
    "            self.players[-1].hand.sort(key=lambda x: x.id)\n",
    "        self.deck.add_defuse_and_exploding_to_deck()\n",
    "\n",
    "    def update_discard_pile(self, played_card):\n",
    "        if played_card is not None:\n",
    "            self.discard_pile += [played_card]\n",
    "\n",
    "    def execute_all_turns_for_a_player(self):\n",
    "        \"\"\"\n",
    "        For the current player:\n",
    "\n",
    "            while the player is still required to draw:\n",
    "                while the player wants to play a card:\n",
    "                    - Choose what card to play\n",
    "                    - If a card is chosen\n",
    "                        - Update the discard pile\n",
    "                        - Perform the card's action\n",
    "                    - Otherwise, set the stopping criteria to True\n",
    "                - The player draws a card to end their turn\n",
    "                - Check if the player exploded and resolve it\n",
    "        \"\"\"\n",
    "        while self.cards_to_draw != 0:\n",
    "            end_turn = False\n",
    "\n",
    "            while not end_turn:\n",
    "                played_card = self.current_player.choose_card_to_play()\n",
    "                if played_card is not None:\n",
    "                    self.update_discard_pile(played_card)\n",
    "                    played_card.action(self)  # Pass the game class into the Cards class\n",
    "                else:\n",
    "                    end_turn = True\n",
    "\n",
    "            # TODO: Need a check here for the case of playing a Skip or an Attack\n",
    "            # e.g. When a player has 1 more card to draw and plays a Skip, \n",
    "            # should we set self.cards_to_draw=0?\n",
    "            # Similarly if the same player plays an Attack, should we set\n",
    "            # self.cards_to_draw = 2 OR self.next_player_cards_to_draw = 0\n",
    "            \n",
    "            drawn_card = self.current_player.draw_to_end_turn(self)\n",
    "            if drawn_card.id == 0:\n",
    "                exploded = self.current_player.explode()\n",
    "                if exploded:\n",
    "                    self.dead_players.append(self.current_player)\n",
    "                    self.players.pop(self.current_player.id)\n",
    "                    self.update_discard_pile(drawn_card)\n",
    "\n",
    "            self.cards_to_draw -= 1\n",
    "\n",
    "\n",
    "    def play_game(self):\n",
    "        end_of_game = False\n",
    "        self.turn_count = 0\n",
    "        self.cards_to_draw = 1\n",
    "        while not end_of_game:\n",
    "            player_id = turn_count % len(self.players)\n",
    "            self.current_player = self.players[player_id]\n",
    "            self.current_player.id = player_id\n",
    "\n",
    "            self.execute_all_turns_for_a_player()\n",
    "            self.cards_to_draw = 1\n",
    "\n",
    "            if len(self.players) == 1:\n",
    "                end_of_game = True\n",
    "\n",
    "            turn_count += 1\n"
   ]
  },
  {
   "cell_type": "code",
   "execution_count": 3,
   "metadata": {},
   "outputs": [],
   "source": [
    "game = Game(players=[\"Mixas\", \"Vasos\", \"Ponjos\"])"
   ]
  },
  {
   "cell_type": "code",
   "execution_count": 4,
   "metadata": {},
   "outputs": [],
   "source": [
    "game.play_game()"
   ]
  },
  {
   "cell_type": "code",
   "execution_count": 5,
   "metadata": {},
   "outputs": [
    {
     "data": {
      "text/plain": [
       "[Mixas]"
      ]
     },
     "execution_count": 5,
     "metadata": {},
     "output_type": "execute_result"
    }
   ],
   "source": [
    "game.players"
   ]
  },
  {
   "cell_type": "code",
   "execution_count": 6,
   "metadata": {},
   "outputs": [
    {
     "data": {
      "text/plain": [
       "[Vasos, Ponjos]"
      ]
     },
     "execution_count": 6,
     "metadata": {},
     "output_type": "execute_result"
    }
   ],
   "source": [
    "game.dead_players"
   ]
  },
  {
   "cell_type": "code",
   "execution_count": 7,
   "metadata": {},
   "outputs": [
    {
     "data": {
      "text/plain": [
       "[Favor,\n",
       " Skip,\n",
       " See The Future,\n",
       " Shuffle,\n",
       " See The Future,\n",
       " Hairy Potato Cat,\n",
       " Attack,\n",
       " Exploding Kitten,\n",
       " Beard Cat,\n",
       " Skip,\n",
       " Favor,\n",
       " Tacocat,\n",
       " See The Future,\n",
       " Nope,\n",
       " Nope,\n",
       " Exploding Kitten]"
      ]
     },
     "execution_count": 7,
     "metadata": {},
     "output_type": "execute_result"
    }
   ],
   "source": [
    "game.discard_pile"
   ]
  },
  {
   "cell_type": "code",
   "execution_count": 8,
   "metadata": {},
   "outputs": [
    {
     "data": {
      "text/plain": [
       "[Defuse,\n",
       " Catermelon,\n",
       " Catermelon,\n",
       " Hairy Potato Cat,\n",
       " Beard Cat,\n",
       " Attack,\n",
       " Skip,\n",
       " Shuffle,\n",
       " Shuffle,\n",
       " Nope,\n",
       " Tacocat,\n",
       " Shuffle,\n",
       " Rainbow Cat,\n",
       " Nope,\n",
       " Exploding Kitten]"
      ]
     },
     "execution_count": 8,
     "metadata": {},
     "output_type": "execute_result"
    }
   ],
   "source": [
    "game.dead_players[1].hand"
   ]
  },
  {
   "cell_type": "code",
   "execution_count": 9,
   "metadata": {},
   "outputs": [
    {
     "data": {
      "text/plain": [
       "[Defuse, Attack, Defuse, Catermelon, Favor, Rainbow Cat]"
      ]
     },
     "execution_count": 9,
     "metadata": {},
     "output_type": "execute_result"
    }
   ],
   "source": [
    "game.players[0].hand"
   ]
  },
  {
   "cell_type": "code",
   "execution_count": null,
   "metadata": {},
   "outputs": [],
   "source": []
  }
 ],
 "metadata": {
  "kernelspec": {
   "display_name": "Python 3.8.13 ('ExplodingKittEnv')",
   "language": "python",
   "name": "python3"
  },
  "language_info": {
   "codemirror_mode": {
    "name": "ipython",
    "version": 3
   },
   "file_extension": ".py",
   "mimetype": "text/x-python",
   "name": "python",
   "nbconvert_exporter": "python",
   "pygments_lexer": "ipython3",
   "version": "3.8.13"
  },
  "orig_nbformat": 4,
  "vscode": {
   "interpreter": {
    "hash": "c8a7669fdb7ab73f48b97b72af7e462a30d1fd6eb52876709e456956f9ca8a27"
   }
  }
 },
 "nbformat": 4,
 "nbformat_minor": 2
}
