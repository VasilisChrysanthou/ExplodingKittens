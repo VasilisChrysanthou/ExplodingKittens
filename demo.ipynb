{
 "cells": [
  {
   "cell_type": "code",
   "execution_count": 18,
   "metadata": {},
   "outputs": [],
   "source": [
    "import random\n",
    "\n",
    "import numpy as np\n",
    "\n",
    "from constants import *\n",
    "from deck import *"
   ]
  },
  {
   "cell_type": "code",
   "execution_count": 41,
   "metadata": {},
   "outputs": [],
   "source": [
    "class CatCards:\n",
    "    def __init__(self):\n",
    "        self.two_of_a_kind = False\n",
    "        self.three_of_a_kind = False\n",
    "        self.discarded = False\n",
    "        self.getid()\n",
    "    \n",
    "    def getid(self):\n",
    "        pass\n",
    "\n",
    "# \"\"\"\n",
    "#     def __repr__(self):\n",
    "#         return f\"{} card\"\n",
    "\n",
    "#     def __add__(self,card2):\n",
    "#         if self.name == card2.name:\n",
    "#             self.two_of_a_kind = True\n",
    "#             card2.two_of_a_kind = True\n",
    "# \"\"\""
   ]
  },
  {
   "cell_type": "code",
   "execution_count": 73,
   "metadata": {},
   "outputs": [],
   "source": [
    "class CatermelonCard(CatCards):\n",
    "    def getid(self):\n",
    "        self.id = 0\n",
    "\n",
    "    def __repr__(self):\n",
    "        return \"Catermelon\"\n",
    "\n",
    "class HairyPotatoCard(CatCards):\n",
    "    def getid(self):\n",
    "        self.id = 1\n",
    "\n",
    "    def __repr__(self):\n",
    "        return \"Hairy Potato Cat\"\n",
    "    \n",
    "class RainbowCatCard(CatCards):\n",
    "    def getid(self):\n",
    "        self.id = 2\n",
    "    \n",
    "    def __repr__(self):\n",
    "        return \"Rainbow Cat\"\n",
    "\n",
    "class BeardCatCard(CatCards):\n",
    "    def getid(self):\n",
    "        self.id = 3\n",
    "\n",
    "    def __repr__(self):\n",
    "        return \"Beard Cat\"\n",
    "\n",
    "class TacocatCard(CatCards):    \n",
    "    def getid(self):\n",
    "        self.flavortext = \"I'm a Palindrome\"\n",
    "        self.id = 4\n",
    "    \n",
    "    def __repr__(self):\n",
    "        return \"Tacocat\""
   ]
  },
  {
   "cell_type": "code",
   "execution_count": 46,
   "metadata": {},
   "outputs": [
    {
     "data": {
      "text/plain": [
       "0"
      ]
     },
     "execution_count": 46,
     "metadata": {},
     "output_type": "execute_result"
    }
   ],
   "source": [
    "x=CatermelonCard()\n",
    "x.id"
   ]
  },
  {
   "cell_type": "code",
   "execution_count": 35,
   "metadata": {},
   "outputs": [],
   "source": [
    "y = CatCards('Catermelon')"
   ]
  },
  {
   "cell_type": "code",
   "execution_count": 36,
   "metadata": {},
   "outputs": [],
   "source": [
    "x + y"
   ]
  },
  {
   "cell_type": "code",
   "execution_count": 37,
   "metadata": {},
   "outputs": [
    {
     "data": {
      "text/plain": [
       "True"
      ]
     },
     "execution_count": 37,
     "metadata": {},
     "output_type": "execute_result"
    }
   ],
   "source": [
    "x.two_of_a_kind"
   ]
  },
  {
   "cell_type": "code",
   "execution_count": 38,
   "metadata": {},
   "outputs": [
    {
     "data": {
      "text/plain": [
       "True"
      ]
     },
     "execution_count": 38,
     "metadata": {},
     "output_type": "execute_result"
    }
   ],
   "source": [
    "y.two_of_a_kind"
   ]
  },
  {
   "cell_type": "code",
   "execution_count": 74,
   "metadata": {},
   "outputs": [
    {
     "data": {
      "text/plain": [
       "4"
      ]
     },
     "execution_count": 74,
     "metadata": {},
     "output_type": "execute_result"
    }
   ],
   "source": [
    "z = TacocatCard()\n",
    "z.id"
   ]
  },
  {
   "cell_type": "code",
   "execution_count": 75,
   "metadata": {},
   "outputs": [],
   "source": [
    "z = 4 * [TacocatCard()]"
   ]
  },
  {
   "cell_type": "code",
   "execution_count": 77,
   "metadata": {},
   "outputs": [
    {
     "data": {
      "text/plain": [
       "[Tacocat, Tacocat, Tacocat, Tacocat]"
      ]
     },
     "execution_count": 77,
     "metadata": {},
     "output_type": "execute_result"
    }
   ],
   "source": [
    "z"
   ]
  },
  {
   "cell_type": "code",
   "execution_count": null,
   "metadata": {},
   "outputs": [],
   "source": []
  }
 ],
 "metadata": {
  "interpreter": {
   "hash": "a67d538807a537b24abbcc4349596b2dc9b48f4eb83146710b17200281c308f8"
  },
  "kernelspec": {
   "display_name": "Python 3.8.8 ('base')",
   "language": "python",
   "name": "python3"
  },
  "language_info": {
   "codemirror_mode": {
    "name": "ipython",
    "version": 3
   },
   "file_extension": ".py",
   "mimetype": "text/x-python",
   "name": "python",
   "nbconvert_exporter": "python",
   "pygments_lexer": "ipython3",
   "version": "3.8.8"
  },
  "orig_nbformat": 4,
  "vscode": {
   "interpreter": {
    "hash": "5db80cccf20e7bfe27f0a83108b97d364ce82386b7b56e09d173ef64ce41e37f"
   }
  }
 },
 "nbformat": 4,
 "nbformat_minor": 2
}
